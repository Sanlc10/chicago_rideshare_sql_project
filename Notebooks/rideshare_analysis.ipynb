{
 "cells": [
  {
   "cell_type": "code",
   "execution_count": 3,
   "id": "8c4408c0",
   "metadata": {},
   "outputs": [],
   "source": [
    "#Importamos las librerías necesarias para el proyecto.\n",
    "import requests #requests para extraer el contenido de internet\n",
    "from bs4 import BeautifulSoup #BeautifulSoup para procesar un archivo HTML.\n",
    "import pandas as pd #Pandas para crear y manipular los datos.\n",
    "import numpy as np #Numpy para realizar operaciones matemáticas.\n",
    "import scipy.stats as st #Scipy para las pruebas de hipótesis y operaciones estadísticas.\n",
    "import matplotlib.pyplot as plt #Matplotlib para las visualizaciones necesarias.\n",
    "import sqlalchemy as sa #SQLalchemy para acceder a la base de datos.\n",
    "\n"
   ]
  },
  {
   "cell_type": "code",
   "execution_count": null,
   "id": "2ad132ab",
   "metadata": {},
   "outputs": [],
   "source": []
  }
 ],
 "metadata": {
  "kernelspec": {
   "display_name": "rideshare_env",
   "language": "python",
   "name": "python3"
  },
  "language_info": {
   "codemirror_mode": {
    "name": "ipython",
    "version": 3
   },
   "file_extension": ".py",
   "mimetype": "text/x-python",
   "name": "python",
   "nbconvert_exporter": "python",
   "pygments_lexer": "ipython3",
   "version": "3.13.5"
  }
 },
 "nbformat": 4,
 "nbformat_minor": 5
}

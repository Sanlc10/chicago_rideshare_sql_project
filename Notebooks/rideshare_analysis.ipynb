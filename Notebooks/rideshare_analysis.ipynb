{
 "cells": [
  {
   "cell_type": "code",
   "execution_count": 1,
   "id": "8c4408c0",
   "metadata": {},
   "outputs": [],
   "source": [
    "#Importamos las librerías necesarias para el proyecto.\n",
    "import requests #requests para extraer el contenido de internet\n",
    "from bs4 import BeautifulSoup #BeautifulSoup para procesar un archivo HTML.\n",
    "import pandas as pd #Pandas para crear y manipular los datos.\n",
    "import numpy as np #Numpy para realizar operaciones matemáticas.\n",
    "import scipy.stats as st #Scipy para las pruebas de hipótesis y operaciones estadísticas.\n",
    "import matplotlib.pyplot as plt #Matplotlib para las visualizaciones necesarias.\n",
    "import sqlalchemy as sa #SQLalchemy para acceder a la base de datos.\n",
    "\n"
   ]
  },
  {
   "cell_type": "code",
   "execution_count": 2,
   "id": "2ad132ab",
   "metadata": {},
   "outputs": [],
   "source": [
    "#Hacemos la solicitud, obtenemos la información y la procesamos con la librería BeatifulSoup.\n",
    "req = requests.get('https://practicum-content.s3.us-west-1.amazonaws.com/data-analyst-eng/moved_chicago_weather_2017.html')\n",
    "soup = BeautifulSoup(req.text, 'lxml')\n",
    "table = soup.find('table', attrs={'id':'weather_records','class':'dataframe'})"
   ]
  },
  {
   "cell_type": "code",
   "execution_count": 3,
   "id": "13cca8e1",
   "metadata": {},
   "outputs": [
    {
     "data": {
      "text/plain": [
       "['Date and time', 'Temperature', 'Description']"
      ]
     },
     "execution_count": 3,
     "metadata": {},
     "output_type": "execute_result"
    }
   ],
   "source": [
    "#A continuación vamos a comenzar a crear el DataFrame, primero extraemos los nombres de las columnas.\n",
    "header=[]  \n",
    "for row in table.find_all(\n",
    "    'th'\n",
    "):  \n",
    "    header.append(\n",
    "        row.text\n",
    "    )  \n",
    "header"
   ]
  },
  {
   "cell_type": "code",
   "execution_count": 4,
   "id": "f46f7f9e",
   "metadata": {},
   "outputs": [
    {
     "data": {
      "text/html": [
       "<div>\n",
       "<style scoped>\n",
       "    .dataframe tbody tr th:only-of-type {\n",
       "        vertical-align: middle;\n",
       "    }\n",
       "\n",
       "    .dataframe tbody tr th {\n",
       "        vertical-align: top;\n",
       "    }\n",
       "\n",
       "    .dataframe thead th {\n",
       "        text-align: right;\n",
       "    }\n",
       "</style>\n",
       "<table border=\"1\" class=\"dataframe\">\n",
       "  <thead>\n",
       "    <tr style=\"text-align: right;\">\n",
       "      <th></th>\n",
       "      <th>Date and time</th>\n",
       "      <th>Temperature</th>\n",
       "      <th>Description</th>\n",
       "    </tr>\n",
       "  </thead>\n",
       "  <tbody>\n",
       "    <tr>\n",
       "      <th>0</th>\n",
       "      <td>2017-11-01 00:00:00</td>\n",
       "      <td>276.150</td>\n",
       "      <td>broken clouds</td>\n",
       "    </tr>\n",
       "    <tr>\n",
       "      <th>1</th>\n",
       "      <td>2017-11-01 01:00:00</td>\n",
       "      <td>275.700</td>\n",
       "      <td>scattered clouds</td>\n",
       "    </tr>\n",
       "    <tr>\n",
       "      <th>2</th>\n",
       "      <td>2017-11-01 02:00:00</td>\n",
       "      <td>275.610</td>\n",
       "      <td>overcast clouds</td>\n",
       "    </tr>\n",
       "    <tr>\n",
       "      <th>3</th>\n",
       "      <td>2017-11-01 03:00:00</td>\n",
       "      <td>275.350</td>\n",
       "      <td>broken clouds</td>\n",
       "    </tr>\n",
       "    <tr>\n",
       "      <th>4</th>\n",
       "      <td>2017-11-01 04:00:00</td>\n",
       "      <td>275.240</td>\n",
       "      <td>broken clouds</td>\n",
       "    </tr>\n",
       "    <tr>\n",
       "      <th>...</th>\n",
       "      <td>...</td>\n",
       "      <td>...</td>\n",
       "      <td>...</td>\n",
       "    </tr>\n",
       "    <tr>\n",
       "      <th>692</th>\n",
       "      <td>2017-11-29 20:00:00</td>\n",
       "      <td>281.340</td>\n",
       "      <td>few clouds</td>\n",
       "    </tr>\n",
       "    <tr>\n",
       "      <th>693</th>\n",
       "      <td>2017-11-29 21:00:00</td>\n",
       "      <td>281.690</td>\n",
       "      <td>sky is clear</td>\n",
       "    </tr>\n",
       "    <tr>\n",
       "      <th>694</th>\n",
       "      <td>2017-11-29 22:00:00</td>\n",
       "      <td>281.070</td>\n",
       "      <td>few clouds</td>\n",
       "    </tr>\n",
       "    <tr>\n",
       "      <th>695</th>\n",
       "      <td>2017-11-29 23:00:00</td>\n",
       "      <td>280.060</td>\n",
       "      <td>sky is clear</td>\n",
       "    </tr>\n",
       "    <tr>\n",
       "      <th>696</th>\n",
       "      <td>2017-11-30 00:00:00</td>\n",
       "      <td>278.460</td>\n",
       "      <td>sky is clear</td>\n",
       "    </tr>\n",
       "  </tbody>\n",
       "</table>\n",
       "<p>697 rows × 3 columns</p>\n",
       "</div>"
      ],
      "text/plain": [
       "           Date and time Temperature       Description\n",
       "0    2017-11-01 00:00:00     276.150     broken clouds\n",
       "1    2017-11-01 01:00:00     275.700  scattered clouds\n",
       "2    2017-11-01 02:00:00     275.610   overcast clouds\n",
       "3    2017-11-01 03:00:00     275.350     broken clouds\n",
       "4    2017-11-01 04:00:00     275.240     broken clouds\n",
       "..                   ...         ...               ...\n",
       "692  2017-11-29 20:00:00     281.340        few clouds\n",
       "693  2017-11-29 21:00:00     281.690      sky is clear\n",
       "694  2017-11-29 22:00:00     281.070        few clouds\n",
       "695  2017-11-29 23:00:00     280.060      sky is clear\n",
       "696  2017-11-30 00:00:00     278.460      sky is clear\n",
       "\n",
       "[697 rows x 3 columns]"
      ]
     },
     "execution_count": 4,
     "metadata": {},
     "output_type": "execute_result"
    }
   ],
   "source": [
    "#Ahora extraemos los datos de la tabla\n",
    "data = []\n",
    "for row in table.find_all('tr'):\n",
    "    if not row.find_all('th'):\n",
    "        data.append([element.text for element in row.find_all('td')])\n",
    "        \n",
    "#Vamos a crear el DataFrame:\n",
    "weather_records = pd.DataFrame(data, columns=header)\n",
    "weather_records\n"
   ]
  },
  {
   "cell_type": "code",
   "execution_count": null,
   "id": "dc86626e",
   "metadata": {},
   "outputs": [],
   "source": []
  }
 ],
 "metadata": {
  "kernelspec": {
   "display_name": "rideshare_env",
   "language": "python",
   "name": "python3"
  },
  "language_info": {
   "codemirror_mode": {
    "name": "ipython",
    "version": 3
   },
   "file_extension": ".py",
   "mimetype": "text/x-python",
   "name": "python",
   "nbconvert_exporter": "python",
   "pygments_lexer": "ipython3",
   "version": "3.13.5"
  }
 },
 "nbformat": 4,
 "nbformat_minor": 5
}
